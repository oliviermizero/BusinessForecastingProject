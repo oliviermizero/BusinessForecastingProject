{
 "cells": [
  {
   "cell_type": "code",
   "execution_count": null,
   "metadata": {},
   "outputs": [],
   "source": [
    "import pandas as pd\n",
    "data = pd.read_csv(\"amazon-purchases.csv\")\n",
    "\n",
    "#type(data[\"Order Date\"][0]) #Date Column is a string\n",
    "#Create a list with prime days inside it\n",
    "prime_days = [\"2022-07-12\", \"2022-07-13\", \"2021-06-21\", \"2021-06-22\", \"2020-10-13\", \"2020-10-14\", \"2019-07-15\", \"2019-07-16\", \"2018-07-17\", \"2018-07-18\",]\n",
    "\n",
    "prime_purchase = []\n",
    "for i in data[\"Order Date\"]:\n",
    "    if i in prime_days:\n",
    "        prime_purchase.append(1)\n",
    "    else:\n",
    "        prime_purchase.append(0)\n",
    "data[\"Prime Purchase\"] = prime_purchase\n",
    "\n",
    "data[\"Prime Purchase\"].value_counts()"
   ]
  },
  {
   "cell_type": "code",
   "execution_count": null,
   "metadata": {},
   "outputs": [],
   "source": [
    "departments = ['Clothing, Shoes & Jewelry',\n",
    "               'Everything Else',\n",
    "               'Home & Kitchen',\n",
    "               'Sports & Outdoors',\n",
    "               'Tools & Home Improvement',\n",
    "               'Electronics',\n",
    "               'Apps & Games',\n",
    "               'Health & Personal Care',\n",
    "               'Office Products',\n",
    "               'Industrial & Scientific',\n",
    "               'Grocery & Gourmet Food',\n",
    "               'Baby',\n",
    "               'Pet Supplies',\n",
    "               'Automotive Parts and Accessories',\n",
    "               'Beauty & Personal Care',\n",
    "               'Cell Phones & Accessories',\n",
    "               'Garden & Outdoor',\n",
    "               'Video Games',\n",
    "               'Books',\n",
    "               'Kindle Accessories',\n",
    "               'Appliances',\n",
    "               'Arts, Crafts & Sewing',\n",
    "               'Gift Cards',\n",
    "               'Musical Instruments',\n",
    "               'Toys & Games',\n",
    "               'Alexa Skills',\n",
    "               'CDs & Vinyl',\n",
    "               'Software',\n",
    "               'Movies & TV']"
   ]
  },
  {
   "cell_type": "code",
   "execution_count": null,
   "metadata": {},
   "outputs": [],
   "source": [
    "import spacy\n",
    "\n",
    "nlp = spacy.load(\"en_core_web_sm\")\n",
    "doc = nlp(data['Title'][0])"
   ]
  },
  {
   "cell_type": "code",
   "execution_count": null,
   "metadata": {},
   "outputs": [],
   "source": [
    "doc"
   ]
  },
  {
   "cell_type": "code",
   "execution_count": null,
   "metadata": {},
   "outputs": [],
   "source": [
    "textcat = nlp.add_pipe(\"textcat_multilabel\")"
   ]
  },
  {
   "cell_type": "code",
   "execution_count": null,
   "metadata": {},
   "outputs": [],
   "source": [
    "for i in departments:\n",
    "    textcat.add_label(i)"
   ]
  },
  {
   "cell_type": "code",
   "execution_count": null,
   "metadata": {},
   "outputs": [],
   "source": [
    "textcat.label_data"
   ]
  },
  {
   "cell_type": "code",
   "execution_count": null,
   "metadata": {},
   "outputs": [],
   "source": [
    "# Assuming you have training data in the form of (text, labels)\n",
    "train_data = [\n",
    "    (\"Simple Joys by Carter's Baby 3-Pack Neutral Cotton Sleeper Gown\", \"Clothing, Shoes & Jewelry\"),\n",
    "    (\"Amazon Essentials Men's Fleece Open Bottom Sweatpant (Available in Big & Tall)\", \"Clothing, Shoes & Jewelry\"),\n",
    "    (\"Amazon Essentials Men's Performance Comfortable Cotton Cushioned Breathable Athletic Crew Sports Socks, 10 Pairs\", \"Clothing, Shoes & Jewelry\"),\n",
    "    (\"Amazon Essentials Women's Cotton Bikini Brief Underwear (Available in Plus Size), Pack of 6\", \"Clothing, Shoes & Jewelry\"),\n",
    "    (\"Bellivera Women's Stand Collar Lightweight Quilted Puffer Jacket Padded Zip Coat for Fall and Winter\", \"Clothing, Shoes & Jewelry\"),\n",
    "    (\"Amazon Basics 2-Ply Flex-Sheets Paper Towels, 12 Basics Rolls = 32 Regular Rolls, Everyday Value with 150 Sheets per Roll\",\"Home & Kitchen\"),\n",
    "    (\"Amazon Basics Flextra Tall Kitchen Drawstring Trash Bags, Unscented, 13 Gallon, 120 Count, Pack of 1\",\"Home & Kitchen\"),\n",
    "    (\"Amazon Basics Microfiber Cleaning Cloths, Non-Abrasive, Reusable and Washable, Pack of 24, Blue/White/Yellow, 16 x 12\",\"Home & Kitchen\"),\n",
    "    (\"Amazon Basics Reversible Lightweight Microfiber Comforter Blanket, Twin/Twin XL, Navy/Sky Blue\",\"Home & Kitchen\"),\n",
    "    (\"Amazon Basics Stainless Steel Wire Whisk Set - 3-Piece\", {\"cats\": {\"Home & Kitchen\": 1}}),\n",
    "]\n",
    "\n",
    "from spacy.tokens import DocBin\n",
    "from spacy.training import Example\n",
    "\n",
    "nlp = spacy.blank(\"en\")\n",
    "training_data = [\n",
    "  (\"Tokyo Tower is 333m tall.\", [(0, 11, \"BUILDING\")]),\n",
    "]\n",
    "# the DocBin will store the example documents\n",
    "db = DocBin()\n",
    "for text, annotations in training_data:\n",
    "    doc = nlp(text)\n",
    "    ents = []\n",
    "    for start, end, label in annotations:\n",
    "        span = doc.char_span(start, end, label=label)\n",
    "        ents.append(span)\n",
    "    doc.ents = ents\n",
    "# Initialize the textcat model with the correct number of labels\n",
    "textcat = nlp.add_pipe(\"textcat_multilabel\", config={\"exclusive_classes\": True, \"architecture\": \"bow\"})\n",
    "\n",
    "for label in departments:\n",
    "    textcat.add_label(label)\n",
    "\n",
    "# Train the textcat model\n",
    "optimizer = nlp.create_optimizer()\n",
    "for i in range(10):  # Number of training iterations\n",
    "    losses = {}\n",
    "    for text, annotations in train_data:\n",
    "        doc = nlp.make_doc(text)\n",
    "        example = Example.from_dict(doc, annotations)\n",
    "        nlp.update([example], sgd=optimizer, losses=losses)\n",
    "    print(losses)\n",
    "\n",
    "# Now you can use the textcat model for predictions\n",
    "textcat(doc)"
   ]
  }
 ],
 "metadata": {
  "language_info": {
   "name": "python"
  }
 },
 "nbformat": 4,
 "nbformat_minor": 2
}
