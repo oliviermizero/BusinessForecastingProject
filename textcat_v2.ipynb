{
 "cells": [
  {
   "cell_type": "code",
   "execution_count": 4,
   "metadata": {},
   "outputs": [
    {
     "name": "stdout",
     "output_type": "stream",
     "text": [
      "Iteration 1, Losses: {'textcat_multilabel': 0.03606108062012936}\n",
      "Iteration 2, Losses: {'textcat_multilabel': 2.57037200412924e-06}\n",
      "Iteration 3, Losses: {'textcat_multilabel': 5.833169849367437e-07}\n",
      "Iteration 4, Losses: {'textcat_multilabel': 2.606413693762022e-07}\n",
      "Iteration 5, Losses: {'textcat_multilabel': 1.5986447365889944e-07}\n",
      "Iteration 6, Losses: {'textcat_multilabel': 1.1746851646954326e-07}\n",
      "Iteration 7, Losses: {'textcat_multilabel': 9.585510474252601e-08}\n",
      "Iteration 8, Losses: {'textcat_multilabel': 8.26054689095912e-08}\n",
      "Iteration 9, Losses: {'textcat_multilabel': 7.470850482693692e-08}\n",
      "Iteration 10, Losses: {'textcat_multilabel': 6.952352948896845e-08}\n",
      "{'Clothing, Shoes & Jewelry': 0.9568436145782471, 'Everything Else': 0.617598831653595, 'Home & Kitchen': 0.9967989921569824, 'Sports & Outdoors': 0.14870500564575195, 'Tools & Home Improvement': 0.5263456106185913, 'Electronics': 0.304215669631958, 'Apps & Games': 0.48125430941581726, 'Health & Personal Care': 0.9293075203895569, 'Office Products': 0.4701157808303833, 'Industrial & Scientific': 0.5278218388557434, 'Grocery & Gourmet Food': 0.09469164162874222, 'Baby': 0.7337725162506104, 'Pet Supplies': 0.8390801548957825, 'Automotive Parts and Accessories': 0.6792279481887817, 'Beauty & Personal Care': 0.27347517013549805, 'Cell Phones & Accessories': 0.12646138668060303, 'Garden & Outdoor': 0.4624089002609253, 'Video Games': 0.8294388651847839, 'Books': 0.8178053498268127, 'Kindle Accessories': 0.4380435347557068, 'Appliances': 0.6560611724853516, 'Arts, Crafts & Sewing': 0.07840496301651001, 'Gift Cards': 0.21790236234664917, 'Musical Instruments': 0.8390222191810608, 'Toys & Games': 0.21834270656108856, 'Alexa Skills': 0.21943806111812592, 'CDs & Vinyl': 0.4407103657722473, 'Software': 0.3819546103477478, 'Movies & TV': 0.1970970332622528}\n"
     ]
    }
   ],
   "source": [
    "import pandas as pd\n",
    "import spacy\n",
    "from spacy.training import Example\n",
    "\n",
    "# Load your data\n",
    "data = pd.read_csv(\"amazon-purchases.csv\")\n",
    "\n",
    "# Define Prime Day dates and add a \"Prime Purchase\" column\n",
    "prime_days = [\"2022-07-12\", \"2022-07-13\", \"2021-06-21\", \"2021-06-22\", \"2020-10-13\", \"2020-10-14\", \n",
    "              \"2019-07-15\", \"2019-07-16\", \"2018-07-17\", \"2018-07-18\"]\n",
    "data[\"Prime Purchase\"] = data[\"Order Date\"].apply(lambda x: 1 if x in prime_days else 0)\n",
    "\n",
    "# Define department categories\n",
    "departments = [\n",
    "    'Clothing, Shoes & Jewelry', 'Everything Else', 'Home & Kitchen', 'Sports & Outdoors', \n",
    "    'Tools & Home Improvement', 'Electronics', 'Apps & Games', 'Health & Personal Care', \n",
    "    'Office Products', 'Industrial & Scientific', 'Grocery & Gourmet Food', 'Baby', 'Pet Supplies', \n",
    "    'Automotive Parts and Accessories', 'Beauty & Personal Care', 'Cell Phones & Accessories', \n",
    "    'Garden & Outdoor', 'Video Games', 'Books', 'Kindle Accessories', 'Appliances', \n",
    "    'Arts, Crafts & Sewing', 'Gift Cards', 'Musical Instruments', 'Toys & Games', 'Alexa Skills', \n",
    "    'CDs & Vinyl', 'Software', 'Movies & TV'\n",
    "]\n",
    "\n",
    "# Load blank spaCy model\n",
    "nlp = spacy.blank(\"en\")\n",
    "\n",
    "# Add the textcat_multilabel pipe\n",
    "textcat = nlp.add_pipe(\"textcat_multilabel\")\n",
    "\n",
    "# Add labels\n",
    "for label in departments:\n",
    "    textcat.add_label(label)\n",
    "\n",
    "# Example training data\n",
    "train_data = [\n",
    "    (\"Simple Joys by Carter's Baby 3-Pack Neutral Cotton Sleeper Gown\", {\"cats\": {\"Clothing, Shoes & Jewelry\": 1}}),\n",
    "    (\"Amazon Basics 2-Ply Flex-Sheets Paper Towels\", {\"cats\": {\"Home & Kitchen\": 1}}),\n",
    "    (\"Bellivera Women's Stand Collar Quilted Puffer Jacket\", {\"cats\": {\"Clothing, Shoes & Jewelry\": 1}}),\n",
    "    (\"Amazon Basics Stainless Steel Wire Whisk Set - 3-Piece\", {\"cats\": {\"Home & Kitchen\": 1}}),\n",
    "]\n",
    "\n",
    "# Training the text classifier\n",
    "optimizer = nlp.begin_training()\n",
    "for i in range(10):  # Number of training iterations\n",
    "    losses = {}\n",
    "    for text, annotations in train_data:\n",
    "        doc = nlp.make_doc(text)\n",
    "        example = Example.from_dict(doc, annotations)\n",
    "        nlp.update([example], sgd=optimizer, losses=losses)\n",
    "    print(f\"Iteration {i+1}, Losses: {losses}\")\n",
    "\n",
    "# Test with an example\n",
    "doc = nlp(\"Amazon Basics Microfiber Cleaning Cloths, Pack of 24\")\n",
    "print(doc.cats)  # Outputs the category scores for each label\n",
    "\n"
   ]
  },
  {
   "cell_type": "code",
   "execution_count": 8,
   "metadata": {},
   "outputs": [
    {
     "name": "stdout",
     "output_type": "stream",
     "text": [
      "Most likely category: Clothing, Shoes & Jewelry (Score: 0.9368)\n"
     ]
    }
   ],
   "source": [
    "# Example prediction function\n",
    "def predict_category(text):\n",
    "    # Process the text through the trained model\n",
    "    doc = nlp(text)\n",
    "    \n",
    "    # Get the category with the highest score\n",
    "    highest_score_label = max(doc.cats, key=doc.cats.get)\n",
    "    highest_score = doc.cats[highest_score_label]\n",
    "    \n",
    "    return highest_score_label, highest_score\n",
    "\n",
    "# Test the prediction function with some example text\n",
    "example_text = data['Title'][0]\n",
    "category, score = predict_category(example_text)\n",
    "print(f\"Most likely category: {category} (Score: {score:.4f})\")"
   ]
  },
  {
   "cell_type": "code",
   "execution_count": 9,
   "metadata": {},
   "outputs": [
    {
     "data": {
      "text/plain": [
       "'SanDisk Ultra 16GB Class 10 SDHC UHS-I Memory Card up to 80MB/s (SDSDUNC-016G-GN6IN)'"
      ]
     },
     "execution_count": 9,
     "metadata": {},
     "output_type": "execute_result"
    }
   ],
   "source": [
    "data['Title'][0]"
   ]
  },
  {
   "cell_type": "code",
   "execution_count": null,
   "metadata": {},
   "outputs": [],
   "source": []
  }
 ],
 "metadata": {
  "kernelspec": {
   "display_name": "PrescriptiveAnalytics",
   "language": "python",
   "name": "python3"
  },
  "language_info": {
   "codemirror_mode": {
    "name": "ipython",
    "version": 3
   },
   "file_extension": ".py",
   "mimetype": "text/x-python",
   "name": "python",
   "nbconvert_exporter": "python",
   "pygments_lexer": "ipython3",
   "version": "3.12.6"
  }
 },
 "nbformat": 4,
 "nbformat_minor": 2
}
